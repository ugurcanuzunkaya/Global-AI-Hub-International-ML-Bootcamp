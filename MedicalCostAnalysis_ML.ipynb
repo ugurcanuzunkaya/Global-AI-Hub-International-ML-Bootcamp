{
  "cells": [
    {
      "cell_type": "code",
      "execution_count": 1,
      "metadata": {
        "colab": {
          "base_uri": "https://localhost:8080/"
        },
        "id": "WJ5kWJtLKQOA",
        "outputId": "804a4bb2-7cc3-4f8e-ac0a-1355815f19c0"
      },
      "outputs": [
        {
          "name": "stdout",
          "output_type": "stream",
          "text": [
            "Looking in indexes: https://pypi.org/simple, https://us-python.pkg.dev/colab-wheels/public/simple/\n",
            "Requirement already satisfied: opendatasets in /usr/local/lib/python3.7/dist-packages (0.1.22)\n",
            "Requirement already satisfied: tqdm in /usr/local/lib/python3.7/dist-packages (from opendatasets) (4.64.1)\n",
            "Requirement already satisfied: kaggle in /usr/local/lib/python3.7/dist-packages (from opendatasets) (1.5.12)\n",
            "Requirement already satisfied: click in /usr/local/lib/python3.7/dist-packages (from opendatasets) (7.1.2)\n",
            "Requirement already satisfied: certifi in /usr/local/lib/python3.7/dist-packages (from kaggle->opendatasets) (2022.9.24)\n",
            "Requirement already satisfied: six>=1.10 in /usr/local/lib/python3.7/dist-packages (from kaggle->opendatasets) (1.15.0)\n",
            "Requirement already satisfied: requests in /usr/local/lib/python3.7/dist-packages (from kaggle->opendatasets) (2.23.0)\n",
            "Requirement already satisfied: urllib3 in /usr/local/lib/python3.7/dist-packages (from kaggle->opendatasets) (1.24.3)\n",
            "Requirement already satisfied: python-dateutil in /usr/local/lib/python3.7/dist-packages (from kaggle->opendatasets) (2.8.2)\n",
            "Requirement already satisfied: python-slugify in /usr/local/lib/python3.7/dist-packages (from kaggle->opendatasets) (6.1.2)\n",
            "Requirement already satisfied: text-unidecode>=1.3 in /usr/local/lib/python3.7/dist-packages (from python-slugify->kaggle->opendatasets) (1.3)\n",
            "Requirement already satisfied: chardet<4,>=3.0.2 in /usr/local/lib/python3.7/dist-packages (from requests->kaggle->opendatasets) (3.0.4)\n",
            "Requirement already satisfied: idna<3,>=2.5 in /usr/local/lib/python3.7/dist-packages (from requests->kaggle->opendatasets) (2.10)\n",
            "Looking in indexes: https://pypi.org/simple, https://us-python.pkg.dev/colab-wheels/public/simple/\n",
            "Requirement already satisfied: pandas in /usr/local/lib/python3.7/dist-packages (1.3.5)\n",
            "Requirement already satisfied: python-dateutil>=2.7.3 in /usr/local/lib/python3.7/dist-packages (from pandas) (2.8.2)\n",
            "Requirement already satisfied: pytz>=2017.3 in /usr/local/lib/python3.7/dist-packages (from pandas) (2022.4)\n",
            "Requirement already satisfied: numpy>=1.17.3 in /usr/local/lib/python3.7/dist-packages (from pandas) (1.21.6)\n",
            "Requirement already satisfied: six>=1.5 in /usr/local/lib/python3.7/dist-packages (from python-dateutil>=2.7.3->pandas) (1.15.0)\n"
          ]
        }
      ],
      "source": [
        "!pip install opendatasets\n",
        "!pip install pandas"
      ]
    },
    {
      "cell_type": "code",
      "execution_count": 2,
      "metadata": {
        "id": "GbggnQRRKvk-"
      },
      "outputs": [],
      "source": [
        "import opendatasets as od\n",
        "import pandas as pd\n",
        "import numpy as np\n",
        "import matplotlib.pyplot as plt\n",
        "import seaborn as sns\n",
        "import warnings\n",
        "warnings.filterwarnings('ignore')"
      ]
    },
    {
      "cell_type": "code",
      "execution_count": null,
      "metadata": {
        "colab": {
          "base_uri": "https://localhost:8080/"
        },
        "id": "biCH4-_PLTE7",
        "outputId": "e50a9103-f4ce-4107-93ec-7165ed9a9643"
      },
      "outputs": [],
      "source": [
        "od.download(\"https://www.kaggle.com/datasets/mirichoi0218/insurance\")"
      ]
    },
    {
      "cell_type": "code",
      "execution_count": 4,
      "metadata": {
        "colab": {
          "base_uri": "https://localhost:8080/",
          "height": 206
        },
        "id": "v0oAgn7qLgM_",
        "outputId": "67f937da-69c7-4236-dd8f-59b96bf7e9bf"
      },
      "outputs": [
        {
          "data": {
            "text/html": [
              "\n",
              "  <div id=\"df-16952e18-6ad8-475a-a0b9-7b6dae652e55\">\n",
              "    <div class=\"colab-df-container\">\n",
              "      <div>\n",
              "<style scoped>\n",
              "    .dataframe tbody tr th:only-of-type {\n",
              "        vertical-align: middle;\n",
              "    }\n",
              "\n",
              "    .dataframe tbody tr th {\n",
              "        vertical-align: top;\n",
              "    }\n",
              "\n",
              "    .dataframe thead th {\n",
              "        text-align: right;\n",
              "    }\n",
              "</style>\n",
              "<table border=\"1\" class=\"dataframe\">\n",
              "  <thead>\n",
              "    <tr style=\"text-align: right;\">\n",
              "      <th></th>\n",
              "      <th>age</th>\n",
              "      <th>sex</th>\n",
              "      <th>bmi</th>\n",
              "      <th>children</th>\n",
              "      <th>smoker</th>\n",
              "      <th>region</th>\n",
              "      <th>charges</th>\n",
              "    </tr>\n",
              "  </thead>\n",
              "  <tbody>\n",
              "    <tr>\n",
              "      <th>0</th>\n",
              "      <td>19</td>\n",
              "      <td>female</td>\n",
              "      <td>27.900</td>\n",
              "      <td>0</td>\n",
              "      <td>yes</td>\n",
              "      <td>southwest</td>\n",
              "      <td>16884.92400</td>\n",
              "    </tr>\n",
              "    <tr>\n",
              "      <th>1</th>\n",
              "      <td>18</td>\n",
              "      <td>male</td>\n",
              "      <td>33.770</td>\n",
              "      <td>1</td>\n",
              "      <td>no</td>\n",
              "      <td>southeast</td>\n",
              "      <td>1725.55230</td>\n",
              "    </tr>\n",
              "    <tr>\n",
              "      <th>2</th>\n",
              "      <td>28</td>\n",
              "      <td>male</td>\n",
              "      <td>33.000</td>\n",
              "      <td>3</td>\n",
              "      <td>no</td>\n",
              "      <td>southeast</td>\n",
              "      <td>4449.46200</td>\n",
              "    </tr>\n",
              "    <tr>\n",
              "      <th>3</th>\n",
              "      <td>33</td>\n",
              "      <td>male</td>\n",
              "      <td>22.705</td>\n",
              "      <td>0</td>\n",
              "      <td>no</td>\n",
              "      <td>northwest</td>\n",
              "      <td>21984.47061</td>\n",
              "    </tr>\n",
              "    <tr>\n",
              "      <th>4</th>\n",
              "      <td>32</td>\n",
              "      <td>male</td>\n",
              "      <td>28.880</td>\n",
              "      <td>0</td>\n",
              "      <td>no</td>\n",
              "      <td>northwest</td>\n",
              "      <td>3866.85520</td>\n",
              "    </tr>\n",
              "  </tbody>\n",
              "</table>\n",
              "</div>\n",
              "      <button class=\"colab-df-convert\" onclick=\"convertToInteractive('df-16952e18-6ad8-475a-a0b9-7b6dae652e55')\"\n",
              "              title=\"Convert this dataframe to an interactive table.\"\n",
              "              style=\"display:none;\">\n",
              "        \n",
              "  <svg xmlns=\"http://www.w3.org/2000/svg\" height=\"24px\"viewBox=\"0 0 24 24\"\n",
              "       width=\"24px\">\n",
              "    <path d=\"M0 0h24v24H0V0z\" fill=\"none\"/>\n",
              "    <path d=\"M18.56 5.44l.94 2.06.94-2.06 2.06-.94-2.06-.94-.94-2.06-.94 2.06-2.06.94zm-11 1L8.5 8.5l.94-2.06 2.06-.94-2.06-.94L8.5 2.5l-.94 2.06-2.06.94zm10 10l.94 2.06.94-2.06 2.06-.94-2.06-.94-.94-2.06-.94 2.06-2.06.94z\"/><path d=\"M17.41 7.96l-1.37-1.37c-.4-.4-.92-.59-1.43-.59-.52 0-1.04.2-1.43.59L10.3 9.45l-7.72 7.72c-.78.78-.78 2.05 0 2.83L4 21.41c.39.39.9.59 1.41.59.51 0 1.02-.2 1.41-.59l7.78-7.78 2.81-2.81c.8-.78.8-2.07 0-2.86zM5.41 20L4 18.59l7.72-7.72 1.47 1.35L5.41 20z\"/>\n",
              "  </svg>\n",
              "      </button>\n",
              "      \n",
              "  <style>\n",
              "    .colab-df-container {\n",
              "      display:flex;\n",
              "      flex-wrap:wrap;\n",
              "      gap: 12px;\n",
              "    }\n",
              "\n",
              "    .colab-df-convert {\n",
              "      background-color: #E8F0FE;\n",
              "      border: none;\n",
              "      border-radius: 50%;\n",
              "      cursor: pointer;\n",
              "      display: none;\n",
              "      fill: #1967D2;\n",
              "      height: 32px;\n",
              "      padding: 0 0 0 0;\n",
              "      width: 32px;\n",
              "    }\n",
              "\n",
              "    .colab-df-convert:hover {\n",
              "      background-color: #E2EBFA;\n",
              "      box-shadow: 0px 1px 2px rgba(60, 64, 67, 0.3), 0px 1px 3px 1px rgba(60, 64, 67, 0.15);\n",
              "      fill: #174EA6;\n",
              "    }\n",
              "\n",
              "    [theme=dark] .colab-df-convert {\n",
              "      background-color: #3B4455;\n",
              "      fill: #D2E3FC;\n",
              "    }\n",
              "\n",
              "    [theme=dark] .colab-df-convert:hover {\n",
              "      background-color: #434B5C;\n",
              "      box-shadow: 0px 1px 3px 1px rgba(0, 0, 0, 0.15);\n",
              "      filter: drop-shadow(0px 1px 2px rgba(0, 0, 0, 0.3));\n",
              "      fill: #FFFFFF;\n",
              "    }\n",
              "  </style>\n",
              "\n",
              "      <script>\n",
              "        const buttonEl =\n",
              "          document.querySelector('#df-16952e18-6ad8-475a-a0b9-7b6dae652e55 button.colab-df-convert');\n",
              "        buttonEl.style.display =\n",
              "          google.colab.kernel.accessAllowed ? 'block' : 'none';\n",
              "\n",
              "        async function convertToInteractive(key) {\n",
              "          const element = document.querySelector('#df-16952e18-6ad8-475a-a0b9-7b6dae652e55');\n",
              "          const dataTable =\n",
              "            await google.colab.kernel.invokeFunction('convertToInteractive',\n",
              "                                                     [key], {});\n",
              "          if (!dataTable) return;\n",
              "\n",
              "          const docLinkHtml = 'Like what you see? Visit the ' +\n",
              "            '<a target=\"_blank\" href=https://colab.research.google.com/notebooks/data_table.ipynb>data table notebook</a>'\n",
              "            + ' to learn more about interactive tables.';\n",
              "          element.innerHTML = '';\n",
              "          dataTable['output_type'] = 'display_data';\n",
              "          await google.colab.output.renderOutput(dataTable, element);\n",
              "          const docLink = document.createElement('div');\n",
              "          docLink.innerHTML = docLinkHtml;\n",
              "          element.appendChild(docLink);\n",
              "        }\n",
              "      </script>\n",
              "    </div>\n",
              "  </div>\n",
              "  "
            ],
            "text/plain": [
              "   age     sex     bmi  children smoker     region      charges\n",
              "0   19  female  27.900         0    yes  southwest  16884.92400\n",
              "1   18    male  33.770         1     no  southeast   1725.55230\n",
              "2   28    male  33.000         3     no  southeast   4449.46200\n",
              "3   33    male  22.705         0     no  northwest  21984.47061\n",
              "4   32    male  28.880         0     no  northwest   3866.85520"
            ]
          },
          "execution_count": 4,
          "metadata": {},
          "output_type": "execute_result"
        }
      ],
      "source": [
        "file_path = \"/content/insurance/insurance.csv\"\n",
        "insurance_df = pd.read_csv(file_path)\n",
        "insurance_df.head()"
      ]
    },
    {
      "cell_type": "code",
      "execution_count": 5,
      "metadata": {
        "colab": {
          "base_uri": "https://localhost:8080/"
        },
        "id": "Lu1aBsJf95vQ",
        "outputId": "7ba4edcf-d21a-4ec3-fbbb-97c2d57409d2"
      },
      "outputs": [
        {
          "data": {
            "text/plain": [
              "age         0\n",
              "sex         0\n",
              "bmi         0\n",
              "children    0\n",
              "smoker      0\n",
              "region      0\n",
              "charges     0\n",
              "dtype: int64"
            ]
          },
          "execution_count": 5,
          "metadata": {},
          "output_type": "execute_result"
        }
      ],
      "source": [
        "insurance_df.isnull().sum()"
      ]
    },
    {
      "cell_type": "code",
      "execution_count": 6,
      "metadata": {
        "colab": {
          "base_uri": "https://localhost:8080/"
        },
        "id": "nRy47Si2owNh",
        "outputId": "4098da4f-3a6c-4f9e-af83-0f76e85aca3d"
      },
      "outputs": [
        {
          "name": "stdout",
          "output_type": "stream",
          "text": [
            "SW policyholder amount: 325\n",
            "SE policyholder amount: 364\n",
            "NW policyholder amount: 325\n",
            "NE policyholder amount: 324\n"
          ]
        }
      ],
      "source": [
        "sw_ph = len(insurance_df[insurance_df[\"region\"]==\"southwest\"])\n",
        "se_ph = len(insurance_df[insurance_df[\"region\"]==\"southeast\"])\n",
        "nw_ph = len(insurance_df[insurance_df[\"region\"]==\"northwest\"])\n",
        "ne_ph = len(insurance_df[insurance_df[\"region\"]==\"northeast\"])\n",
        "\n",
        "print(f\"SW policyholder amount: {sw_ph}\")\n",
        "print(f\"SE policyholder amount: {se_ph}\")\n",
        "print(f\"NW policyholder amount: {nw_ph}\")\n",
        "print(f\"NE policyholder amount: {ne_ph}\")"
      ]
    },
    {
      "cell_type": "code",
      "execution_count": 7,
      "metadata": {
        "colab": {
          "base_uri": "https://localhost:8080/",
          "height": 248
        },
        "id": "sku8o4dVoyBD",
        "outputId": "79bc02a9-cfd7-4dde-f882-5da0ee9276e4"
      },
      "outputs": [
        {
          "data": {
            "image/png": "[encoded data removed]",
            "text/plain": [
              "<Figure size 432x288 with 1 Axes>"
            ]
          },
          "metadata": {},
          "output_type": "display_data"
        }
      ],
      "source": [
        "region_pie_label = [\"Southwest policyholder\",\"Southeast policyholder\", \"Northwest policyholder\", \"Northeast policyholder\"]\n",
        "region_pie_data = [sw_ph, se_ph, nw_ph, ne_ph]\n",
        "\n",
        "plt.pie(region_pie_data, labels=region_pie_label, colors=sns.color_palette('Set2'), autopct='%.0f%%')\n",
        "plt.show()"
      ]
    },
    {
      "cell_type": "code",
      "execution_count": 8,
      "metadata": {
        "colab": {
          "base_uri": "https://localhost:8080/"
        },
        "id": "3FwOjnlPo3Mo",
        "outputId": "f8dfa34c-6866-492b-c6bd-6e0abf2c4d57"
      },
      "outputs": [
        {
          "name": "stdout",
          "output_type": "stream",
          "text": [
            "smoker policyholder amount: 274\n",
            "nonsmoker policyholder amount: 1064\n"
          ]
        }
      ],
      "source": [
        "n_smoker = len(insurance_df[insurance_df[\"smoker\"]==\"yes\"])\n",
        "n_non_smoker = len(insurance_df[insurance_df[\"smoker\"]==\"no\"])\n",
        "\n",
        "print(f\"smoker policyholder amount: {n_smoker}\")\n",
        "print(f\"nonsmoker policyholder amount: {n_non_smoker}\")"
      ]
    },
    {
      "cell_type": "code",
      "execution_count": 9,
      "metadata": {
        "colab": {
          "base_uri": "https://localhost:8080/",
          "height": 248
        },
        "id": "1Qmnwv0Qo48s",
        "outputId": "55e21a5d-99f3-4c96-f291-e774871941e6"
      },
      "outputs": [
        {
          "data": {
            "image/png": "[encoded data removed]",
            "text/plain": [
              "<Figure size 432x288 with 1 Axes>"
            ]
          },
          "metadata": {},
          "output_type": "display_data"
        }
      ],
      "source": [
        "smoker_color = ['#6c3461', # Smoker\n",
        "                '#ff796c', # Non-smoker\n",
        "               ]\n",
        "smoker_pie_label = [\"Smoker\", \"Nonsmoker\"]\n",
        "smoker_pie_data = [n_smoker, n_non_smoker]\n",
        "\n",
        "plt.pie(smoker_pie_data, labels=smoker_pie_label, colors=sns.color_palette(smoker_color), autopct='%.0f%%')\n",
        "plt.show()"
      ]
    },
    {
      "cell_type": "code",
      "execution_count": 10,
      "metadata": {
        "colab": {
          "base_uri": "https://localhost:8080/"
        },
        "id": "t9WOx5-bo9ej",
        "outputId": "774b0f3c-10b2-4863-8792-d89e2634f78d"
      },
      "outputs": [
        {
          "name": "stdout",
          "output_type": "stream",
          "text": [
            "male policyholder amount: 676\n",
            "female policyholder amount: 662\n"
          ]
        }
      ],
      "source": [
        "n_male = len(insurance_df[insurance_df[\"sex\"]==\"male\"])\n",
        "n_female = len(insurance_df[insurance_df[\"sex\"]==\"female\"])\n",
        "\n",
        "print(f\"male policyholder amount: {n_male}\")\n",
        "print(f\"female policyholder amount: {n_female}\")"
      ]
    },
    {
      "cell_type": "code",
      "execution_count": 11,
      "metadata": {
        "colab": {
          "base_uri": "https://localhost:8080/",
          "height": 248
        },
        "id": "ofB7OWvwo_um",
        "outputId": "d6245a1f-0e12-4754-db40-53d6c1cf595a"
      },
      "outputs": [
        {
          "data": {
            "image/png": "[encoded data removed]",
            "text/plain": [
              "<Figure size 432x288 with 1 Axes>"
            ]
          },
          "metadata": {},
          "output_type": "display_data"
        }
      ],
      "source": [
        "gender_color = ['#36a4c4', #Male\n",
        "                '#cb416b', #Female\n",
        "               ]\n",
        "gender_pie_label = [\"Male\", \"Female\"]\n",
        "gender_pie_data = [n_male, n_female]\n",
        "\n",
        "plt.pie(gender_pie_data, labels=gender_pie_label, colors=sns.color_palette(gender_color), autopct='%.0f%%')\n",
        "plt.show()"
      ]
    },
    {
      "cell_type": "code",
      "execution_count": 12,
      "metadata": {
        "colab": {
          "base_uri": "https://localhost:8080/"
        },
        "id": "HvJyjHpqpA-f",
        "outputId": "d0057f86-bc81-48d1-aa54-9d85784e183f"
      },
      "outputs": [
        {
          "name": "stdout",
          "output_type": "stream",
          "text": [
            "covariance between quantitative variables\n",
            "                   age           bmi    children       charges\n",
            "age         197.401387      9.362337    0.719303  5.087480e+04\n",
            "bmi           9.362337     37.187884    0.093795  1.464730e+04\n",
            "children      0.719303      0.093795    1.453213  9.926742e+02\n",
            "charges   50874.802298  14647.304426  992.674197  1.466524e+08 \n",
            "\n",
            "correlation coefficient between quantitative variables\n",
            "               age       bmi  children   charges\n",
            "age       1.000000  0.109272  0.042469  0.299008\n",
            "bmi       0.109272  1.000000  0.012759  0.198341\n",
            "children  0.042469  0.012759  1.000000  0.067998\n",
            "charges   0.299008  0.198341  0.067998  1.000000\n"
          ]
        }
      ],
      "source": [
        "cov_insurance_data = insurance_df.cov()\n",
        "corr_insurance_data = insurance_df.corr()\n",
        "\n",
        "print('covariance between quantitative variables')\n",
        "print(cov_insurance_data,'\\n')\n",
        "print('correlation coefficient between quantitative variables')\n",
        "print(corr_insurance_data)"
      ]
    },
    {
      "cell_type": "code",
      "execution_count": 13,
      "metadata": {
        "id": "0VsLN4ue99yk"
      },
      "outputs": [],
      "source": [
        "from sklearn.preprocessing import LabelEncoder\n",
        "#sex\n",
        "le = LabelEncoder()\n",
        "le.fit(insurance_df.sex.drop_duplicates()) \n",
        "insurance_df.sex = le.transform(insurance_df.sex)\n",
        "# smoker or not\n",
        "le.fit(insurance_df.smoker.drop_duplicates()) \n",
        "insurance_df.smoker = le.transform(insurance_df.smoker)\n",
        "#region\n",
        "le.fit(insurance_df.region.drop_duplicates()) \n",
        "insurance_df.region = le.transform(insurance_df.region)"
      ]
    },
    {
      "cell_type": "code",
      "execution_count": 14,
      "metadata": {
        "colab": {
          "base_uri": "https://localhost:8080/",
          "height": 206
        },
        "id": "viCvExMAFNyo",
        "outputId": "19404143-49fb-4d4c-d9a3-eb761d514245"
      },
      "outputs": [
        {
          "data": {
            "text/html": [
              "\n",
              "  <div id=\"df-0fc08371-3457-40e7-b5cb-140213731768\">\n",
              "    <div class=\"colab-df-container\">\n",
              "      <div>\n",
              "<style scoped>\n",
              "    .dataframe tbody tr th:only-of-type {\n",
              "        vertical-align: middle;\n",
              "    }\n",
              "\n",
              "    .dataframe tbody tr th {\n",
              "        vertical-align: top;\n",
              "    }\n",
              "\n",
              "    .dataframe thead th {\n",
              "        text-align: right;\n",
              "    }\n",
              "</style>\n",
              "<table border=\"1\" class=\"dataframe\">\n",
              "  <thead>\n",
              "    <tr style=\"text-align: right;\">\n",
              "      <th></th>\n",
              "      <th>age</th>\n",
              "      <th>sex</th>\n",
              "      <th>bmi</th>\n",
              "      <th>children</th>\n",
              "      <th>smoker</th>\n",
              "      <th>region</th>\n",
              "      <th>charges</th>\n",
              "    </tr>\n",
              "  </thead>\n",
              "  <tbody>\n",
              "    <tr>\n",
              "      <th>0</th>\n",
              "      <td>19</td>\n",
              "      <td>0</td>\n",
              "      <td>27.900</td>\n",
              "      <td>0</td>\n",
              "      <td>1</td>\n",
              "      <td>3</td>\n",
              "      <td>16884.92400</td>\n",
              "    </tr>\n",
              "    <tr>\n",
              "      <th>1</th>\n",
              "      <td>18</td>\n",
              "      <td>1</td>\n",
              "      <td>33.770</td>\n",
              "      <td>1</td>\n",
              "      <td>0</td>\n",
              "      <td>2</td>\n",
              "      <td>1725.55230</td>\n",
              "    </tr>\n",
              "    <tr>\n",
              "      <th>2</th>\n",
              "      <td>28</td>\n",
              "      <td>1</td>\n",
              "      <td>33.000</td>\n",
              "      <td>3</td>\n",
              "      <td>0</td>\n",
              "      <td>2</td>\n",
              "      <td>4449.46200</td>\n",
              "    </tr>\n",
              "    <tr>\n",
              "      <th>3</th>\n",
              "      <td>33</td>\n",
              "      <td>1</td>\n",
              "      <td>22.705</td>\n",
              "      <td>0</td>\n",
              "      <td>0</td>\n",
              "      <td>1</td>\n",
              "      <td>21984.47061</td>\n",
              "    </tr>\n",
              "    <tr>\n",
              "      <th>4</th>\n",
              "      <td>32</td>\n",
              "      <td>1</td>\n",
              "      <td>28.880</td>\n",
              "      <td>0</td>\n",
              "      <td>0</td>\n",
              "      <td>1</td>\n",
              "      <td>3866.85520</td>\n",
              "    </tr>\n",
              "  </tbody>\n",
              "</table>\n",
              "</div>\n",
              "      <button class=\"colab-df-convert\" onclick=\"convertToInteractive('df-0fc08371-3457-40e7-b5cb-140213731768')\"\n",
              "              title=\"Convert this dataframe to an interactive table.\"\n",
              "              style=\"display:none;\">\n",
              "        \n",
              "  <svg xmlns=\"http://www.w3.org/2000/svg\" height=\"24px\"viewBox=\"0 0 24 24\"\n",
              "       width=\"24px\">\n",
              "    <path d=\"M0 0h24v24H0V0z\" fill=\"none\"/>\n",
              "    <path d=\"M18.56 5.44l.94 2.06.94-2.06 2.06-.94-2.06-.94-.94-2.06-.94 2.06-2.06.94zm-11 1L8.5 8.5l.94-2.06 2.06-.94-2.06-.94L8.5 2.5l-.94 2.06-2.06.94zm10 10l.94 2.06.94-2.06 2.06-.94-2.06-.94-.94-2.06-.94 2.06-2.06.94z\"/><path d=\"M17.41 7.96l-1.37-1.37c-.4-.4-.92-.59-1.43-.59-.52 0-1.04.2-1.43.59L10.3 9.45l-7.72 7.72c-.78.78-.78 2.05 0 2.83L4 21.41c.39.39.9.59 1.41.59.51 0 1.02-.2 1.41-.59l7.78-7.78 2.81-2.81c.8-.78.8-2.07 0-2.86zM5.41 20L4 18.59l7.72-7.72 1.47 1.35L5.41 20z\"/>\n",
              "  </svg>\n",
              "      </button>\n",
              "      \n",
              "  <style>\n",
              "    .colab-df-container {\n",
              "      display:flex;\n",
              "      flex-wrap:wrap;\n",
              "      gap: 12px;\n",
              "    }\n",
              "\n",
              "    .colab-df-convert {\n",
              "      background-color: #E8F0FE;\n",
              "      border: none;\n",
              "      border-radius: 50%;\n",
              "      cursor: pointer;\n",
              "      display: none;\n",
              "      fill: #1967D2;\n",
              "      height: 32px;\n",
              "      padding: 0 0 0 0;\n",
              "      width: 32px;\n",
              "    }\n",
              "\n",
              "    .colab-df-convert:hover {\n",
              "      background-color: #E2EBFA;\n",
              "      box-shadow: 0px 1px 2px rgba(60, 64, 67, 0.3), 0px 1px 3px 1px rgba(60, 64, 67, 0.15);\n",
              "      fill: #174EA6;\n",
              "    }\n",
              "\n",
              "    [theme=dark] .colab-df-convert {\n",
              "      background-color: #3B4455;\n",
              "      fill: #D2E3FC;\n",
              "    }\n",
              "\n",
              "    [theme=dark] .colab-df-convert:hover {\n",
              "      background-color: #434B5C;\n",
              "      box-shadow: 0px 1px 3px 1px rgba(0, 0, 0, 0.15);\n",
              "      filter: drop-shadow(0px 1px 2px rgba(0, 0, 0, 0.3));\n",
              "      fill: #FFFFFF;\n",
              "    }\n",
              "  </style>\n",
              "\n",
              "      <script>\n",
              "        const buttonEl =\n",
              "          document.querySelector('#df-0fc08371-3457-40e7-b5cb-140213731768 button.colab-df-convert');\n",
              "        buttonEl.style.display =\n",
              "          google.colab.kernel.accessAllowed ? 'block' : 'none';\n",
              "\n",
              "        async function convertToInteractive(key) {\n",
              "          const element = document.querySelector('#df-0fc08371-3457-40e7-b5cb-140213731768');\n",
              "          const dataTable =\n",
              "            await google.colab.kernel.invokeFunction('convertToInteractive',\n",
              "                                                     [key], {});\n",
              "          if (!dataTable) return;\n",
              "\n",
              "          const docLinkHtml = 'Like what you see? Visit the ' +\n",
              "            '<a target=\"_blank\" href=https://colab.research.google.com/notebooks/data_table.ipynb>data table notebook</a>'\n",
              "            + ' to learn more about interactive tables.';\n",
              "          element.innerHTML = '';\n",
              "          dataTable['output_type'] = 'display_data';\n",
              "          await google.colab.output.renderOutput(dataTable, element);\n",
              "          const docLink = document.createElement('div');\n",
              "          docLink.innerHTML = docLinkHtml;\n",
              "          element.appendChild(docLink);\n",
              "        }\n",
              "      </script>\n",
              "    </div>\n",
              "  </div>\n",
              "  "
            ],
            "text/plain": [
              "   age  sex     bmi  children  smoker  region      charges\n",
              "0   19    0  27.900         0       1       3  16884.92400\n",
              "1   18    1  33.770         1       0       2   1725.55230\n",
              "2   28    1  33.000         3       0       2   4449.46200\n",
              "3   33    1  22.705         0       0       1  21984.47061\n",
              "4   32    1  28.880         0       0       1   3866.85520"
            ]
          },
          "execution_count": 14,
          "metadata": {},
          "output_type": "execute_result"
        }
      ],
      "source": [
        "insurance_df.head()"
      ]
    },
    {
      "cell_type": "code",
      "execution_count": 15,
      "metadata": {
        "colab": {
          "base_uri": "https://localhost:8080/"
        },
        "id": "VS7BthuC-E9d",
        "outputId": "2e5548f0-2400-4e8c-e255-c47c7d6085b8"
      },
      "outputs": [
        {
          "data": {
            "text/plain": [
              "region     -0.006208\n",
              "sex         0.057292\n",
              "children    0.067998\n",
              "bmi         0.198341\n",
              "age         0.299008\n",
              "smoker      0.787251\n",
              "charges     1.000000\n",
              "Name: charges, dtype: float64"
            ]
          },
          "execution_count": 15,
          "metadata": {},
          "output_type": "execute_result"
        }
      ],
      "source": [
        "insurance_df.corr()['charges'].sort_values()"
      ]
    },
    {
      "cell_type": "code",
      "execution_count": 16,
      "metadata": {
        "colab": {
          "base_uri": "https://localhost:8080/",
          "height": 499
        },
        "id": "mLvU78y--JXp",
        "outputId": "42d2fe5c-2de5-42ba-9b31-64c0a20d2d3e"
      },
      "outputs": [
        {
          "data": {
            "image/png": "[encoded data removed]",
            "text/plain": [
              "<Figure size 720x576 with 1 Axes>"
            ]
          },
          "metadata": {
            "needs_background": "light"
          },
          "output_type": "display_data"
        }
      ],
      "source": [
        "f, ax = plt.subplots(figsize=(10, 8))\n",
        "corr = insurance_df.corr()\n",
        "sns.heatmap(corr, mask=np.zeros_like(corr), square=True, ax=ax, annot=True, cbar=False)\n",
        "plt.title(\"Correlation between columns\")\n",
        "plt.show()"
      ]
    },
    {
      "cell_type": "code",
      "execution_count": 17,
      "metadata": {
        "colab": {
          "base_uri": "https://localhost:8080/",
          "height": 281
        },
        "id": "QlfW4lCWPu4P",
        "outputId": "6014a2bc-9ecb-4a8e-a968-6f5706db6446"
      },
      "outputs": [
        {
          "data": {
            "image/png": "[encoded data removed]",
            "text/plain": [
              "<Figure size 432x288 with 1 Axes>"
            ]
          },
          "metadata": {
            "needs_background": "light"
          },
          "output_type": "display_data"
        }
      ],
      "source": [
        "plt.hist(insurance_df[\"bmi\"])\n",
        "plt.title(\"Histogram of BMI\")\n",
        "plt.show()"
      ]
    },
    {
      "cell_type": "code",
      "execution_count": 18,
      "metadata": {
        "colab": {
          "base_uri": "https://localhost:8080/",
          "height": 350
        },
        "id": "_fHLh6Ej-ze5",
        "outputId": "bdc508ef-6018-4cc8-91ee-7ff30fe06d58"
      },
      "outputs": [
        {
          "data": {
            "image/png": "[encoded data removed]",
            "text/plain": [
              "<Figure size 864x360 with 2 Axes>"
            ]
          },
          "metadata": {
            "needs_background": "light"
          },
          "output_type": "display_data"
        }
      ],
      "source": [
        "f= plt.figure(figsize=(12,5))\n",
        "\n",
        "ax=f.add_subplot(121)\n",
        "sns.histplot(insurance_df[(insurance_df.smoker == 1)][\"charges\"],color='c',ax=ax)\n",
        "ax.set_title('Distribution of charges for smokers')\n",
        "\n",
        "ax=f.add_subplot(122)\n",
        "sns.histplot(insurance_df[(insurance_df.smoker == 0)]['charges'],color='b',ax=ax)\n",
        "ax.set_title('Distribution of charges for non-smokers')\n",
        "plt.show()"
      ]
    },
    {
      "cell_type": "markdown",
      "metadata": {
        "id": "yiA-804FDY91"
      },
      "source": [
        "We can clearly see that non-smokers pays less than smokers. Also, most of the smokers are in the upper 50th percentile."
      ]
    },
    {
      "cell_type": "code",
      "execution_count": 19,
      "metadata": {
        "colab": {
          "base_uri": "https://localhost:8080/",
          "height": 385
        },
        "id": "YDtlDxNL_Kyq",
        "outputId": "7a09dfb8-5656-49d5-e9e0-457999ad1246"
      },
      "outputs": [
        {
          "data": {
            "image/png": "[encoded data removed]",
            "text/plain": [
              "<Figure size 402.375x360 with 1 Axes>"
            ]
          },
          "metadata": {
            "needs_background": "light"
          },
          "output_type": "display_data"
        }
      ],
      "source": [
        "sns.catplot(x=\"smoker\", kind=\"count\",hue = 'region', palette=\"colorblind\", data=insurance_df)\n",
        "plt.title(\"Relationship between smoker and region\")\n",
        "plt.show()"
      ]
    },
    {
      "cell_type": "markdown",
      "metadata": {
        "id": "G38b5pJ5D9Tb"
      },
      "source": [
        "We can see that most of the smoker in the region 2."
      ]
    },
    {
      "cell_type": "code",
      "execution_count": 20,
      "metadata": {
        "colab": {
          "base_uri": "https://localhost:8080/",
          "height": 385
        },
        "id": "GTsofgpwEksX",
        "outputId": "c147677d-f1a2-4d17-db00-6b901c61c87d"
      },
      "outputs": [
        {
          "data": {
            "image/png": "[encoded data removed]",
            "text/plain": [
              "<Figure size 360x360 with 1 Axes>"
            ]
          },
          "metadata": {
            "needs_background": "light"
          },
          "output_type": "display_data"
        }
      ],
      "source": [
        "sns.catplot(x = 'sex', y=\"bmi\", kind=\"box\", palette=\"colorblind\", data=insurance_df)\n",
        "plt.title(\"Relationship between bmi and sex\")\n",
        "plt.show()"
      ]
    },
    {
      "cell_type": "markdown",
      "metadata": {
        "id": "VgDBlcHsFJ5p"
      },
      "source": [
        "Male(1) and female(0) have almost same boxplot but some of the males bigger than 50 bmi. We can say that we have some outliers here."
      ]
    },
    {
      "cell_type": "code",
      "execution_count": 21,
      "metadata": {
        "colab": {
          "base_uri": "https://localhost:8080/"
        },
        "id": "7XBrVdUMY_eK",
        "outputId": "a43285c2-5080-4ada-aae6-74b805f480d4"
      },
      "outputs": [
        {
          "data": {
            "text/plain": [
              "region\n",
              "0    339\n",
              "1    373\n",
              "2    382\n",
              "3    371\n",
              "Name: children, dtype: int64"
            ]
          },
          "execution_count": 21,
          "metadata": {},
          "output_type": "execute_result"
        }
      ],
      "source": [
        "children_df = insurance_df.groupby(\"region\")\n",
        "children_df[\"children\"].sum()"
      ]
    },
    {
      "cell_type": "markdown",
      "metadata": {
        "id": "uYnCifCtEdHE"
      },
      "source": [
        "We can see that most of the children in the region 2."
      ]
    },
    {
      "cell_type": "code",
      "execution_count": 22,
      "metadata": {
        "colab": {
          "base_uri": "https://localhost:8080/",
          "height": 281
        },
        "id": "JbL2TbliEgp2",
        "outputId": "4d1618e7-800b-4ed6-958e-b03aae978f31"
      },
      "outputs": [
        {
          "data": {
            "image/png": "[encoded data removed]",
            "text/plain": [
              "<Figure size 432x288 with 1 Axes>"
            ]
          },
          "metadata": {
            "needs_background": "light"
          },
          "output_type": "display_data"
        }
      ],
      "source": [
        "plt.scatter(insurance_df[\"age\"], insurance_df[\"bmi\"])\n",
        "plt.title(\"Relationship between age and bmi\")\n",
        "plt.show()"
      ]
    },
    {
      "cell_type": "markdown",
      "metadata": {
        "id": "s_LjzmO7NVLi"
      },
      "source": [
        "We can see that it distribute almost evenly. In some ages, they have some outliers but they can be negligible."
      ]
    },
    {
      "cell_type": "code",
      "execution_count": 23,
      "metadata": {
        "colab": {
          "base_uri": "https://localhost:8080/",
          "height": 385
        },
        "id": "qZK1AYMgNiZO",
        "outputId": "314e4b4a-b6f4-43b7-c569-7b0846fb8988"
      },
      "outputs": [
        {
          "data": {
            "image/png": "[encoded data removed]",
            "text/plain": [
              "<Figure size 360x360 with 1 Axes>"
            ]
          },
          "metadata": {
            "needs_background": "light"
          },
          "output_type": "display_data"
        }
      ],
      "source": [
        "sns.catplot(x = 'children', y=\"bmi\", kind=\"box\", palette=\"colorblind\", data=insurance_df)\n",
        "plt.title(\"Relationship between children and bmi\")\n",
        "plt.show()"
      ]
    },
    {
      "cell_type": "markdown",
      "metadata": {
        "id": "vOeaLY1WOR4U"
      },
      "source": [
        "All of them has almost same boxplot but some of them have some upper outliers and small range than others."
      ]
    },
    {
      "cell_type": "code",
      "execution_count": 24,
      "metadata": {
        "colab": {
          "base_uri": "https://localhost:8080/",
          "height": 281
        },
        "id": "5Pj7TU3qORnc",
        "outputId": "10b9ed9d-7716-4453-b395-f0b635508d0e"
      },
      "outputs": [
        {
          "data": {
            "image/png": "[encoded data removed]",
            "text/plain": [
              "<Figure size 432x288 with 1 Axes>"
            ]
          },
          "metadata": {
            "needs_background": "light"
          },
          "output_type": "display_data"
        }
      ],
      "source": [
        "plt.boxplot(insurance_df[\"bmi\"])\n",
        "plt.title(\"Boxplot of bmi\")\n",
        "plt.show()"
      ]
    },
    {
      "cell_type": "markdown",
      "metadata": {
        "id": "lbQl2n3oPOKF"
      },
      "source": [
        "We can see that bmi has some upper outliers."
      ]
    },
    {
      "cell_type": "code",
      "execution_count": 25,
      "metadata": {
        "colab": {
          "base_uri": "https://localhost:8080/",
          "height": 281
        },
        "id": "7GBCEKYbPmnP",
        "outputId": "57d0c700-adba-407a-9179-942c91535ac0"
      },
      "outputs": [
        {
          "data": {
            "image/png": "[encoded data removed]",
            "text/plain": [
              "<Figure size 432x288 with 1 Axes>"
            ]
          },
          "metadata": {
            "needs_background": "light"
          },
          "output_type": "display_data"
        }
      ],
      "source": [
        "plt.scatter(insurance_df[\"bmi\"], insurance_df[\"charges\"])\n",
        "plt.title(\"Relationship between bmi and charges\")\n",
        "plt.show()"
      ]
    },
    {
      "cell_type": "markdown",
      "metadata": {
        "id": "25xEM58bQvo5"
      },
      "source": [
        "We can see that charges mostly distributes between 0 and 20,000. Also, it looks like has 3 clusters if we use K-means clustering."
      ]
    },
    {
      "cell_type": "code",
      "execution_count": 26,
      "metadata": {
        "colab": {
          "base_uri": "https://localhost:8080/",
          "height": 385
        },
        "id": "mfhSzKtZSroL",
        "outputId": "8d943f11-2dc0-4aca-f707-9045305e88d6"
      },
      "outputs": [
        {
          "data": {
            "image/png": "[encoded data removed]",
            "text/plain": [
              "<Figure size 404.5x360 with 1 Axes>"
            ]
          },
          "metadata": {
            "needs_background": "light"
          },
          "output_type": "display_data"
        }
      ],
      "source": [
        "sns.catplot(x = 'region', y=\"bmi\", kind=\"bar\", hue=\"smoker\", palette=\"colorblind\", data=insurance_df)\n",
        "plt.title(\"Relationship between region, smoker, and bmi\")\n",
        "plt.show()"
      ]
    },
    {
      "cell_type": "markdown",
      "metadata": {
        "id": "iR83CHhmTVgE"
      },
      "source": [
        "Almost all regions has same bmi, and smoker, and non-smoker but region 2 significantly higher than others in both smoker, and non-smoker groups."
      ]
    },
    {
      "cell_type": "code",
      "execution_count": 27,
      "metadata": {
        "id": "4YH4YDtlTn6g"
      },
      "outputs": [],
      "source": [
        "x = insurance_df.drop(['charges'], axis = 1)\n",
        "x = np.array(x)\n",
        "y = insurance_df.charges\n",
        "y = np.array(y)\n"
      ]
    },
    {
      "cell_type": "code",
      "execution_count": 28,
      "metadata": {
        "colab": {
          "base_uri": "https://localhost:8080/"
        },
        "id": "XJuwJmdEUNRu",
        "outputId": "c190bbf5-373f-46a5-dbc5-48238e5fafaa"
      },
      "outputs": [
        {
          "data": {
            "text/plain": [
              "array([[19.   ,  0.   , 27.9  ,  0.   ,  1.   ,  3.   ],\n",
              "       [18.   ,  1.   , 33.77 ,  1.   ,  0.   ,  2.   ],\n",
              "       [28.   ,  1.   , 33.   ,  3.   ,  0.   ,  2.   ],\n",
              "       [33.   ,  1.   , 22.705,  0.   ,  0.   ,  1.   ],\n",
              "       [32.   ,  1.   , 28.88 ,  0.   ,  0.   ,  1.   ]])"
            ]
          },
          "execution_count": 28,
          "metadata": {},
          "output_type": "execute_result"
        }
      ],
      "source": [
        "x[:5]"
      ]
    },
    {
      "cell_type": "code",
      "execution_count": 29,
      "metadata": {
        "colab": {
          "base_uri": "https://localhost:8080/"
        },
        "id": "CR1L9FGrUNpP",
        "outputId": "3cdda5de-f67a-45d0-ed1e-539b3232235d"
      },
      "outputs": [
        {
          "data": {
            "text/plain": [
              "array([16884.924  ,  1725.5523 ,  4449.462  , 21984.47061,  3866.8552 ])"
            ]
          },
          "execution_count": 29,
          "metadata": {},
          "output_type": "execute_result"
        }
      ],
      "source": [
        "y[:5]"
      ]
    },
    {
      "cell_type": "code",
      "execution_count": 30,
      "metadata": {
        "colab": {
          "base_uri": "https://localhost:8080/"
        },
        "id": "t0-e_jXuUP5f",
        "outputId": "3a0fb348-427b-4b7f-cf46-3682ad9ba922"
      },
      "outputs": [
        {
          "data": {
            "text/plain": [
              "((1338, 6), (1338,))"
            ]
          },
          "execution_count": 30,
          "metadata": {},
          "output_type": "execute_result"
        }
      ],
      "source": [
        "x.shape, y.shape"
      ]
    },
    {
      "cell_type": "code",
      "execution_count": 31,
      "metadata": {
        "colab": {
          "base_uri": "https://localhost:8080/"
        },
        "id": "zjSdIupIUtn2",
        "outputId": "78abe1a2-12b6-431a-caa4-f00881b8a06a"
      },
      "outputs": [
        {
          "name": "stdout",
          "output_type": "stream",
          "text": [
            "X\n",
            " [[0.02173913 0.         0.3212268  0.         1.         1.        ]\n",
            " [0.         1.         0.47914985 0.2        0.         0.66666667]\n",
            " [0.2173913  1.         0.45843422 0.6        0.         0.66666667]\n",
            " ...\n",
            " [0.         0.         0.56201238 0.         0.         0.66666667]\n",
            " [0.06521739 0.         0.26472962 0.         0.         1.        ]\n",
            " [0.93478261 0.         0.35270379 0.         1.         0.33333333]] \n",
            "\n",
            "y\n",
            " [[0.25161076]\n",
            " [0.00963595]\n",
            " [0.05311516]\n",
            " ...\n",
            " [0.00810808]\n",
            " [0.01414352]\n",
            " [0.44724873]]\n"
          ]
        }
      ],
      "source": [
        "from sklearn.preprocessing import MinMaxScaler\n",
        "\n",
        "# X Min Max Scaling\n",
        "scaler = MinMaxScaler()\n",
        "model = scaler.fit(x)\n",
        "x = model.transform(x)\n",
        "\n",
        "# Y Min Max Scaling\n",
        "y = np.array(y)\n",
        "y = y.reshape(-1,1)\n",
        "scaler1 = MinMaxScaler()\n",
        "model1 = scaler1.fit(y)\n",
        "y = model1.transform(y)\n",
        "\n",
        "print(\"X\\n\",x, \"\\n\\ny\\n\", y)"
      ]
    },
    {
      "cell_type": "code",
      "execution_count": 32,
      "metadata": {
        "colab": {
          "base_uri": "https://localhost:8080/"
        },
        "id": "Rxx7PSLbUTSS",
        "outputId": "6ef10ca2-4246-4fe7-b5f2-1927493da535"
      },
      "outputs": [
        {
          "data": {
            "text/plain": [
              "((1003, 6), (1003, 1), (335, 6), (335, 1))"
            ]
          },
          "execution_count": 32,
          "metadata": {},
          "output_type": "execute_result"
        }
      ],
      "source": [
        "from sklearn.model_selection import train_test_split, cross_val_score, GridSearchCV, learning_curve\n",
        "x_train, x_test, y_train, y_test = train_test_split(x, y, test_size=0.25, shuffle=True, random_state=44)\n",
        "x_train.shape, y_train.shape, x_test.shape, y_test.shape"
      ]
    },
    {
      "cell_type": "code",
      "execution_count": 33,
      "metadata": {
        "id": "wT-i-lCwd5QP"
      },
      "outputs": [],
      "source": [
        "# X_train = X_train.T\n",
        "# X_test = X_test.T\n",
        "# y_train = y_train.T\n",
        "# y_test = y_test.T"
      ]
    },
    {
      "cell_type": "code",
      "execution_count": 34,
      "metadata": {
        "colab": {
          "base_uri": "https://localhost:8080/"
        },
        "id": "jZc6T_YMWFiW",
        "outputId": "fa691ea5-d99d-4115-a348-d7ce290d396a"
      },
      "outputs": [
        {
          "name": "stdout",
          "output_type": "stream",
          "text": [
            "Examples from X_train and y_test\n",
            " [[0.91304348 1.         0.45305354 0.         1.         1.        ]\n",
            " [0.63043478 1.         0.54452515 0.2        0.         1.        ]\n",
            " [0.         1.         0.46731235 0.         0.         0.66666667]\n",
            " [0.02173913 0.         0.51627657 0.         0.         0.33333333]\n",
            " [0.69565217 1.         0.43960183 0.4        0.         1.        ]] \n",
            "\n",
            " [[0.0577251 ]\n",
            " [0.0148998 ]\n",
            " [0.10094477]\n",
            " [0.29114997]\n",
            " [0.02606839]]\n"
          ]
        }
      ],
      "source": [
        "print(\"Examples from X_train and y_test\\n\", x_train[:5], \"\\n\" * 2, y_test[:5])"
      ]
    },
    {
      "cell_type": "code",
      "execution_count": 35,
      "metadata": {
        "id": "wrGED0g5e6G5"
      },
      "outputs": [],
      "source": [
        "from sklearn.linear_model import LinearRegression\n",
        "from sklearn.preprocessing import PolynomialFeatures\n",
        "from sklearn.metrics import r2_score, mean_squared_error, mean_absolute_error\n",
        "from sklearn.ensemble import RandomForestRegressor, GradientBoostingRegressor, AdaBoostRegressor"
      ]
    },
    {
      "cell_type": "code",
      "execution_count": 36,
      "metadata": {
        "id": "8UC1YGW3rC7f"
      },
      "outputs": [],
      "source": [
        "# with a learning curve (applying cross-validation)\n",
        "def evaluate_models(algorithm, X, y):\n",
        "    \n",
        "    # Learning curve\n",
        "    N, train_score, val_score = learning_curve(\n",
        "        algorithm, X, y,\n",
        "        cv=5, scoring='r2',\n",
        "        train_sizes=np.linspace(0.1, 1, 10)\n",
        "    )\n",
        "    \n",
        "    # Plot the learning curve\n",
        "    plt.figure(figsize=(8, 3))\n",
        "    plt.plot(N, train_score.mean(axis=1), label='train_score')\n",
        "    plt.plot(N, val_score.mean(axis=1), label='val_score')\n",
        "    plt.legend()\n",
        "    plt.title(f'{algorithm}', fontsize=18)\n",
        "    \n",
        "    train_scores.append(train_score[-1].mean())\n",
        "    val_scores.append(val_score[-1].mean())\n",
        "    \n",
        "    # Print the results\n",
        "    print(f'{algorithm}')\n",
        "    print(\"train_score =\", \"%0.3f\" % train_score[-1].mean())\n",
        "    print(\"val_score =\", \"%0.3f\" % val_score[-1].mean())\n",
        "    plt.show()\n",
        "    print(\"-\"*20)"
      ]
    },
    {
      "cell_type": "code",
      "execution_count": 37,
      "metadata": {
        "id": "uZD6X6LNrdgi"
      },
      "outputs": [],
      "source": [
        "algorithms = [GradientBoostingRegressor(),\n",
        "              LinearRegression(),\n",
        "              RandomForestRegressor(),\n",
        "              AdaBoostRegressor()]"
      ]
    },
    {
      "cell_type": "code",
      "execution_count": 38,
      "metadata": {
        "colab": {
          "base_uri": "https://localhost:8080/",
          "height": 1000
        },
        "id": "ylu7UrC9rlNj",
        "outputId": "c090b995-479f-45ad-867f-f0e37ee35055"
      },
      "outputs": [
        {
          "name": "stdout",
          "output_type": "stream",
          "text": [
            "GradientBoostingRegressor()\n",
            "train_score = 0.904\n",
            "val_score = 0.855\n"
          ]
        },
        {
          "data": {
            "image/png": "[encoded data removed]",
            "text/plain": [
              "<Figure size 576x216 with 1 Axes>"
            ]
          },
          "metadata": {
            "needs_background": "light"
          },
          "output_type": "display_data"
        },
        {
          "name": "stdout",
          "output_type": "stream",
          "text": [
            "--------------------\n",
            "LinearRegression()\n",
            "train_score = 0.751\n",
            "val_score = 0.747\n"
          ]
        },
        {
          "data": {
            "image/png": "[encoded data removed]",
            "text/plain": [
              "<Figure size 576x216 with 1 Axes>"
            ]
          },
          "metadata": {
            "needs_background": "light"
          },
          "output_type": "display_data"
        },
        {
          "name": "stdout",
          "output_type": "stream",
          "text": [
            "--------------------\n",
            "RandomForestRegressor()\n",
            "train_score = 0.977\n",
            "val_score = 0.834\n"
          ]
        },
        {
          "data": {
            "image/png": "[encoded data removed]",
            "text/plain": [
              "<Figure size 576x216 with 1 Axes>"
            ]
          },
          "metadata": {
            "needs_background": "light"
          },
          "output_type": "display_data"
        },
        {
          "name": "stdout",
          "output_type": "stream",
          "text": [
            "--------------------\n",
            "AdaBoostRegressor()\n",
            "train_score = 0.836\n",
            "val_score = 0.820\n"
          ]
        },
        {
          "data": {
            "image/png": "[encoded data removed]",
            "text/plain": [
              "<Figure size 576x216 with 1 Axes>"
            ]
          },
          "metadata": {
            "needs_background": "light"
          },
          "output_type": "display_data"
        },
        {
          "name": "stdout",
          "output_type": "stream",
          "text": [
            "--------------------\n"
          ]
        }
      ],
      "source": [
        "train_scores = []\n",
        "val_scores = []\n",
        "\n",
        "for a in algorithms:\n",
        "    evaluate_models(a, x, y)"
      ]
    },
    {
      "cell_type": "code",
      "execution_count": 39,
      "metadata": {
        "colab": {
          "base_uri": "https://localhost:8080/"
        },
        "id": "s1pvLQfpe7Wb",
        "outputId": "b876406c-c9a6-43df-94c3-d9b6e1880de7"
      },
      "outputs": [
        {
          "name": "stdout",
          "output_type": "stream",
          "text": [
            "Score 0.7467311941745087\n",
            "Train R2score 0.7511290206196497\n",
            "Test R2score 0.7467311941745087\n",
            "Train MAE 0.06787063340328893\n",
            "Test MAE 0.06335548350841984\n",
            "Train MSE 0.009749376531950658\n",
            "Test MSE 0.008037525229198277\n",
            "Train RMSE 0.09873893118699766\n",
            "Test RMSE 0.08965224609120664\n"
          ]
        }
      ],
      "source": [
        "lr = LinearRegression().fit(x_train,y_train)\n",
        "\n",
        "y_train_pred_lr = lr.predict(x_train)\n",
        "y_test_pred_lr = lr.predict(x_test)\n",
        "\n",
        "print(\"Score\", lr.score(x_test,y_test))\n",
        "print('Train R2score', r2_score(y_train,y_train_pred_lr))\n",
        "print('Test R2score', r2_score(y_test,y_test_pred_lr))\n",
        "print('Train MAE', mean_absolute_error(y_train,y_train_pred_lr))\n",
        "print('Test MAE', mean_absolute_error(y_test,y_test_pred_lr))\n",
        "print('Train MSE', mean_squared_error(y_train,y_train_pred_lr))\n",
        "print('Test MSE', mean_squared_error(y_test,y_test_pred_lr))\n",
        "print('Train RMSE', np.sqrt(mean_squared_error(y_train,y_train_pred_lr)))\n",
        "print('Test RMSE', np.sqrt(mean_squared_error(y_test,y_test_pred_lr)))"
      ]
    },
    {
      "cell_type": "code",
      "execution_count": 40,
      "metadata": {
        "colab": {
          "base_uri": "https://localhost:8080/"
        },
        "id": "w-Q4gDRzkfG4",
        "outputId": "7c4d9277-78c4-4e1e-a497-d3ac0e753c7a"
      },
      "outputs": [
        {
          "name": "stdout",
          "output_type": "stream",
          "text": [
            "R2 Score: [0.76123983 0.70838663 0.77786772 0.73365206 0.7551335 ]\n",
            "Average Score: 0.7472559473580954 \n",
            "Standard Score: 0.024044021908464896 \n",
            "Coveraiance: 0.03217642093511859\n"
          ]
        }
      ],
      "source": [
        "score=cross_val_score(lr,x,y,cv=5,scoring='r2')\n",
        "avg_score=np.mean(score)\n",
        "std_score=np.std(score)\n",
        "coe_var=std_score/avg_score\n",
        "print('R2 Score:',score)\n",
        "print('Average Score:',avg_score,'\\nStandard Score:',std_score, '\\nCoveraiance:',coe_var)"
      ]
    },
    {
      "cell_type": "code",
      "execution_count": 41,
      "metadata": {
        "colab": {
          "base_uri": "https://localhost:8080/"
        },
        "id": "c_BUv1Z9k3vS",
        "outputId": "61c5c9ed-4362-4d3c-9ca0-54937b6057db"
      },
      "outputs": [
        {
          "name": "stdout",
          "output_type": "stream",
          "text": [
            "R2 Score: [-0.00945331 -0.00965032 -0.00830646 -0.01007408 -0.00947619]\n",
            "Average Score: -0.009392072988437855 \n",
            "Standard Score: 0.0005867192407690921 \n",
            "Coveraiance: -0.0624696210827338\n"
          ]
        }
      ],
      "source": [
        "score=cross_val_score(lr,x,y,cv=5,scoring='neg_mean_squared_error')\n",
        "avg_score=np.mean(score)\n",
        "std_score=np.std(score)\n",
        "coe_var=std_score/avg_score\n",
        "print('R2 Score:',score)\n",
        "print('Average Score:',avg_score,'\\nStandard Score:',std_score, '\\nCoveraiance:',coe_var)"
      ]
    },
    {
      "cell_type": "code",
      "execution_count": 42,
      "metadata": {
        "colab": {
          "base_uri": "https://localhost:8080/"
        },
        "id": "HniBBa5EhPPt",
        "outputId": "aa24c5d1-160d-47fe-bcd5-5ac8f3b34326"
      },
      "outputs": [
        {
          "name": "stdout",
          "output_type": "stream",
          "text": [
            "MSE train data: 0.001, MSE test data: 0.005\n",
            "R2 train data: 0.976, R2 test data: 0.846\n"
          ]
        }
      ],
      "source": [
        "forest = RandomForestRegressor(n_estimators = 100, criterion = 'mse', random_state = 1, n_jobs = -1)\n",
        "forest.fit(x_train,y_train)\n",
        "forest_train_pred = forest.predict(x_train)\n",
        "forest_test_pred = forest.predict(x_test)\n",
        "\n",
        "print('MSE train data: %.3f, MSE test data: %.3f' % (mean_squared_error(y_train,forest_train_pred), mean_squared_error(y_test,forest_test_pred)))\n",
        "print('R2 train data: %.3f, R2 test data: %.3f' % (r2_score(y_train,forest_train_pred), r2_score(y_test,forest_test_pred)))"
      ]
    },
    {
      "cell_type": "code",
      "execution_count": 43,
      "metadata": {
        "colab": {
          "base_uri": "https://localhost:8080/"
        },
        "id": "UPGfVQ8IlhTl",
        "outputId": "a7217514-c1d9-48cf-94ee-f23c578a7674"
      },
      "outputs": [
        {
          "name": "stdout",
          "output_type": "stream",
          "text": [
            "R2 Score: [0.85359929 0.7725199  0.87220243 0.82846641 0.84993221]\n",
            "Average Score: 0.8353440466393105 \n",
            "Standard Score: 0.0343475865841102 \n",
            "Coveraiance: 0.041117892349020344\n"
          ]
        }
      ],
      "source": [
        "score=cross_val_score(forest,x,y,cv=5,scoring='r2')\n",
        "avg_score=np.mean(score)\n",
        "std_score=np.std(score)\n",
        "coe_var=std_score/avg_score\n",
        "print('R2 Score:',score)\n",
        "print('Average Score:',avg_score,'\\nStandard Score:',std_score, '\\nCoveraiance:',coe_var)"
      ]
    },
    {
      "cell_type": "code",
      "execution_count": 44,
      "metadata": {
        "colab": {
          "base_uri": "https://localhost:8080/"
        },
        "id": "6zZULaQuljaz",
        "outputId": "75092931-bb55-416c-c4c3-474a8a14527c"
      },
      "outputs": [
        {
          "name": "stdout",
          "output_type": "stream",
          "text": [
            "R2 Score: [-0.00579649 -0.00752797 -0.00477889 -0.00648792 -0.00580753]\n",
            "Average Score: -0.006079760341301427 \n",
            "Standard Score: 0.0009066977268543777 \n",
            "Coveraiance: -0.14913379408970107\n"
          ]
        }
      ],
      "source": [
        "score=cross_val_score(forest,x,y,cv=5,scoring='neg_mean_squared_error')\n",
        "avg_score=np.mean(score)\n",
        "std_score=np.std(score)\n",
        "coe_var=std_score/avg_score\n",
        "print('R2 Score:',score)\n",
        "print('Average Score:',avg_score,'\\nStandard Score:',std_score, '\\nCoveraiance:',coe_var)"
      ]
    },
    {
      "cell_type": "code",
      "execution_count": 45,
      "metadata": {
        "colab": {
          "base_uri": "https://localhost:8080/"
        },
        "id": "XLnDq9UPm6fy",
        "outputId": "7e3ba56c-31b0-4bdc-f30c-3dd68480afe3"
      },
      "outputs": [
        {
          "name": "stdout",
          "output_type": "stream",
          "text": [
            "Train R2score 0.907361786234906\n",
            "Test R2score 0.858666963470124\n",
            "Train MAE 0.03316234126557267\n",
            "Test MAE 0.03861380090472185\n",
            "Train MSE 0.0036290483908247334\n",
            "Test MSE 0.004485226055082328\n",
            "Train RMSE 0.06024158356836856\n",
            "Test RMSE 0.06697183031008133\n"
          ]
        }
      ],
      "source": [
        "GBR = GradientBoostingRegressor()\n",
        "GBR.fit(x_train, y_train)\n",
        "GBR.score(x_test, y_test)\n",
        "\n",
        "y_train_pred_gbr = GBR.predict(x_train)\n",
        "y_test_pred_gbr = GBR.predict(x_test)\n",
        "\n",
        "print('Train R2score', r2_score(y_train,y_train_pred_gbr))\n",
        "print('Test R2score', r2_score(y_test,y_test_pred_gbr))\n",
        "print('Train MAE', mean_absolute_error(y_train,y_train_pred_gbr))\n",
        "print('Test MAE', mean_absolute_error(y_test,y_test_pred_gbr))\n",
        "print('Train MSE', mean_squared_error(y_train,y_train_pred_gbr))\n",
        "print('Test MSE', mean_squared_error(y_test,y_test_pred_gbr))\n",
        "print('Train RMSE', np.sqrt(mean_squared_error(y_train,y_train_pred_gbr)))\n",
        "print('Test RMSE', np.sqrt(mean_squared_error(y_test,y_test_pred_gbr)))"
      ]
    },
    {
      "cell_type": "code",
      "execution_count": 46,
      "metadata": {
        "colab": {
          "base_uri": "https://localhost:8080/"
        },
        "id": "iB2hkN8DoN2Q",
        "outputId": "bc91760a-747a-49ec-f8b1-09e561586604"
      },
      "outputs": [
        {
          "name": "stdout",
          "output_type": "stream",
          "text": [
            "R2 Score: [0.87516126 0.79143454 0.89402038 0.84897437 0.85970492]\n",
            "Average Score: 0.8538590951108344 \n",
            "Standard Score: 0.03470323025368263 \n",
            "Coveraiance: 0.04064280681952332\n"
          ]
        }
      ],
      "source": [
        "score=cross_val_score(GBR,x,y,cv=5,scoring='r2')\n",
        "avg_score=np.mean(score)\n",
        "std_score=np.std(score)\n",
        "coe_var=std_score/avg_score\n",
        "print('R2 Score:',score)\n",
        "print('Average Score:',avg_score,'\\nStandard Score:',std_score, '\\nCoveraiance:',coe_var)"
      ]
    },
    {
      "cell_type": "code",
      "execution_count": 47,
      "metadata": {
        "colab": {
          "base_uri": "https://localhost:8080/"
        },
        "id": "9y75jvmWoP5P",
        "outputId": "ca118690-881c-4156-b14f-fe473efd0c73"
      },
      "outputs": [
        {
          "name": "stdout",
          "output_type": "stream",
          "text": [
            "R2 Score: [-0.00494207 -0.00690203 -0.00395757 -0.00571213 -0.00542634]\n",
            "Average Score: -0.005388027012769821 \n",
            "Standard Score: 0.0009637227070409366 \n",
            "Coveraiance: -0.1788637482248843\n"
          ]
        }
      ],
      "source": [
        "score=cross_val_score(GBR,x,y,cv=5,scoring='neg_mean_squared_error')\n",
        "avg_score=np.mean(score)\n",
        "std_score=np.std(score)\n",
        "coe_var=std_score/avg_score\n",
        "print('R2 Score:',score)\n",
        "print('Average Score:',avg_score,'\\nStandard Score:',std_score, '\\nCoveraiance:',coe_var)"
      ]
    },
    {
      "cell_type": "code",
      "execution_count": 49,
      "metadata": {
        "colab": {
          "base_uri": "https://localhost:8080/"
        },
        "id": "uIBWrFSvnZ9I",
        "outputId": "f65686c2-48ed-4426-a451-531c23c96b2b"
      },
      "outputs": [
        {
          "name": "stdout",
          "output_type": "stream",
          "text": [
            " Results from Grid Search \n",
            "\n",
            " The best estimator across ALL searched params:\n",
            " GradientBoostingRegressor(learning_rate=0.03, max_depth=4, subsample=0.5)\n",
            "\n",
            " The best score across ALL searched params:\n",
            " 0.8400114316694844\n",
            "\n",
            " The best parameters across ALL searched params:\n",
            " {'learning_rate': 0.03, 'max_depth': 4, 'n_estimators': 100, 'subsample': 0.5}\n"
          ]
        }
      ],
      "source": [
        "parameters = {'learning_rate': [0.01,0.02,0.03,0.04], 'subsample': [0.9, 0.5, 0.2, 0.1], 'n_estimators': [100,500,1000, 1500], 'max_depth': [4,6,8,10]}\n",
        "\n",
        "grid_GBR = GridSearchCV(estimator=GBR, param_grid = parameters, cv = 2, n_jobs=-1)\n",
        "grid_GBR.fit(x_train, y_train)\n",
        "\n",
        "print(\" Results from Grid Search \" )\n",
        "print(\"\\n The best estimator across ALL searched params:\\n\",grid_GBR.best_estimator_)\n",
        "print(\"\\n The best score across ALL searched params:\\n\",grid_GBR.best_score_)\n",
        "print(\"\\n The best parameters across ALL searched params:\\n\",grid_GBR.best_params_)"
      ]
    }
  ],
  "metadata": {
    "colab": {
      "collapsed_sections": [],
      "provenance": []
    },
    "kernelspec": {
      "display_name": "Python 3",
      "name": "python3"
    },
    "language_info": {
      "name": "python"
    }
  },
  "nbformat": 4,
  "nbformat_minor": 0
}
